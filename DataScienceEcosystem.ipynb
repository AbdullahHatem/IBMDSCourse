{
 "cells": [
  {
   "cell_type": "markdown",
   "id": "aa936148",
   "metadata": {},
   "source": [
    "###### Exercise 1: Create a Jupyter Notebook "
   ]
  },
  {
   "cell_type": "markdown",
   "id": "ec223c0c",
   "metadata": {},
   "source": [
    "###### Exercise 2: Create markdown cell with title of the notebook"
   ]
  },
  {
   "cell_type": "markdown",
   "id": "dfb49f5f",
   "metadata": {},
   "source": [
    "# Data Science Tools and Ecosystem #"
   ]
  },
  {
   "cell_type": "markdown",
   "id": "f153f420",
   "metadata": {},
   "source": [
    "###### Exercise 3 - Create a markdown cell for an introduction"
   ]
  },
  {
   "cell_type": "markdown",
   "id": "9adfb55e",
   "metadata": {},
   "source": [
    "#### In this notebook, Data Science Tools and Ecosystem are summarized."
   ]
  },
  {
   "cell_type": "markdown",
   "id": "7b3e0042",
   "metadata": {},
   "source": [
    "Objectives:\n",
    "- Languages Of Data Science\n",
    "- Data Science Libraries\n",
    "- Data Science Environment\n",
    "- Arithmetic Expressions"
   ]
  },
  {
   "cell_type": "markdown",
   "id": "1cd9644a",
   "metadata": {},
   "source": [
    "###### Exercise 4 - Create a markdown cell to list data science languages"
   ]
  },
  {
   "cell_type": "markdown",
   "id": "d80700f9",
   "metadata": {},
   "source": [
    "Some of the popular languages that Data Scientists use are:\n",
    "1. python \n",
    "2. R\n",
    "3. SQL\n",
    "4. JAVA"
   ]
  },
  {
   "cell_type": "markdown",
   "id": "9fe08683",
   "metadata": {},
   "source": [
    "###### Exercise 5 - Create a markdown cell to list data science libraries"
   ]
  },
  {
   "cell_type": "markdown",
   "id": "513a6909",
   "metadata": {},
   "source": [
    "Some of the commonly used libraries used by Data Scientists include:\n",
    "1. Pandas \n",
    "2. NumPy\n",
    "3. MatPlotLib\n",
    "4. SeaBorn"
   ]
  },
  {
   "cell_type": "markdown",
   "id": "41b3f38f",
   "metadata": {},
   "source": [
    "###### Exercise 6 - Create a markdown cell with a table of Data Science tools"
   ]
  },
  {
   "cell_type": "markdown",
   "id": "75744ca1",
   "metadata": {},
   "source": [
    "|Data Science Tools|\n",
    "|-|\n",
    "|ANACONDA|\n",
    "|R STUDIO|\n",
    "|SPYDER|"
   ]
  },
  {
   "cell_type": "markdown",
   "id": "b19f51eb",
   "metadata": {},
   "source": [
    "###### Exercise 7 - Create a markdown cell introducing arithmetic expression examples"
   ]
  },
  {
   "cell_type": "markdown",
   "id": "bd652150",
   "metadata": {},
   "source": [
    "### below are a few examples of evaluating arithmetic expressions in Python"
   ]
  },
  {
   "cell_type": "code",
   "execution_count": 8,
   "id": "f9057b5c",
   "metadata": {},
   "outputs": [
    {
     "data": {
      "text/plain": [
       "(7, 16, 7)"
      ]
     },
     "execution_count": 8,
     "metadata": {},
     "output_type": "execute_result"
    }
   ],
   "source": [
    "3+4, 2*8, 12-5"
   ]
  },
  {
   "cell_type": "markdown",
   "id": "3dfc69df",
   "metadata": {},
   "source": [
    "###### Exercise 8 - Create a code cell to multiply and add numbers"
   ]
  },
  {
   "cell_type": "code",
   "execution_count": 9,
   "id": "0bf9cb97",
   "metadata": {},
   "outputs": [
    {
     "data": {
      "text/plain": [
       "17"
      ]
     },
     "execution_count": 9,
     "metadata": {},
     "output_type": "execute_result"
    }
   ],
   "source": [
    "#This a simple arithmetic expression to mutiply then add integers\n",
    "(3*4)+5"
   ]
  },
  {
   "cell_type": "markdown",
   "id": "031b7d0a",
   "metadata": {},
   "source": [
    "###### Exercise 9 - Create a code cell to convert minutes to hours"
   ]
  },
  {
   "cell_type": "code",
   "execution_count": 10,
   "id": "ece44d81",
   "metadata": {},
   "outputs": [
    {
     "data": {
      "text/plain": [
       "3.3333333333333335"
      ]
     },
     "execution_count": 10,
     "metadata": {},
     "output_type": "execute_result"
    }
   ],
   "source": [
    "#This will convert 200 minutes to hours by diving by 60\n",
    "200/60"
   ]
  },
  {
   "cell_type": "markdown",
   "id": "94570b1d",
   "metadata": {},
   "source": [
    "###### Exercise 10 - Insert a markdown cell to list Objectives"
   ]
  },
  {
   "cell_type": "markdown",
   "id": "b3f4dab9",
   "metadata": {},
   "source": [
    "###### Exercise 11 - Create a markdown cell to indicate the Author's name"
   ]
  },
  {
   "cell_type": "markdown",
   "id": "d8553873",
   "metadata": {},
   "source": [
    "## Author\n",
    "Abdullah Hatem Hossny"
   ]
  }
 ],
 "metadata": {
  "kernelspec": {
   "display_name": "Python 3 (ipykernel)",
   "language": "python",
   "name": "python3"
  },
  "language_info": {
   "codemirror_mode": {
    "name": "ipython",
    "version": 3
   },
   "file_extension": ".py",
   "mimetype": "text/x-python",
   "name": "python",
   "nbconvert_exporter": "python",
   "pygments_lexer": "ipython3",
   "version": "3.9.13"
  }
 },
 "nbformat": 4,
 "nbformat_minor": 5
}
